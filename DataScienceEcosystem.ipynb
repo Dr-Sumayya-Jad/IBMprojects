{
 "cells": [
  {
   "cell_type": "markdown",
   "id": "482ec654-c05a-43ca-89e3-2e1f8dd48f7c",
   "metadata": {},
   "source": [
    "# Data Science Tools and Ecosystem"
   ]
  },
  {
   "cell_type": "markdown",
   "id": "b3875eb4-8dd3-46de-aad6-f52d52414902",
   "metadata": {},
   "source": [
    "#### In this notebook, Data Science Tools and Ecosystem are summarized."
   ]
  },
  {
   "cell_type": "markdown",
   "id": "4bb0a5ae-e801-4d4e-9047-81fbbd78954b",
   "metadata": {},
   "source": [
    "### **Objectives:**\n",
    "\n",
    "- Exercise what has been learnt in this cpurse\n",
    "- List most common Data Science Languages\n",
    "- List most common Data Science Tools"
   ]
  },
  {
   "cell_type": "markdown",
   "id": "f77ac8b3-2f95-40c2-bc5d-968b285c35ac",
   "metadata": {},
   "source": [
    "##### Some of the popular languages that Data Scientists use are:\n",
    "1. Python\n",
    "2. R\n",
    "3. C++\n",
    "\n"
   ]
  },
  {
   "cell_type": "markdown",
   "id": "9230b237-bf7d-4b7d-99ef-4ca711a8a523",
   "metadata": {},
   "source": [
    "##### Some of the commonly used libraries used by Data Scientists include:\n",
    "1. Numpy\n",
    "2. Pandas\n",
    "3. Matplolib\n",
    "4. Seaborn"
   ]
  },
  {
   "cell_type": "markdown",
   "id": "11e2b87d-e5fb-4ed9-aad0-5eb6277fd3fc",
   "metadata": {},
   "source": [
    "|Data Science Tools|\n",
    "|------------------|\n",
    "|Jupyter Lab|\n",
    "|R Studio|\n",
    "|Pycharm|\n",
    "|Spyder|"
   ]
  },
  {
   "cell_type": "markdown",
   "id": "dc686df0-7371-44bf-a7bb-d9f1c10fe843",
   "metadata": {},
   "source": [
    "### Below are a few examples of evaluating arithmetic expressions in Python."
   ]
  },
  {
   "cell_type": "code",
   "execution_count": 14,
   "id": "76e0dcb0-81cd-45b6-a5e9-234358f00732",
   "metadata": {},
   "outputs": [
    {
     "data": {
      "text/plain": [
       "17"
      ]
     },
     "execution_count": 14,
     "metadata": {},
     "output_type": "execute_result"
    }
   ],
   "source": [
    "# This a simple arithmetic expression to mutiply then add integers\n",
    "(3*4)+5"
   ]
  },
  {
   "cell_type": "code",
   "execution_count": 16,
   "id": "3ead077d-f751-4f0d-89ce-968339f482ef",
   "metadata": {},
   "outputs": [
    {
     "data": {
      "text/plain": [
       "3.3333333333333335"
      ]
     },
     "execution_count": 16,
     "metadata": {},
     "output_type": "execute_result"
    }
   ],
   "source": [
    "# This will convert 200 minutes to hours by diving by 60\n",
    "200/60"
   ]
  },
  {
   "cell_type": "markdown",
   "id": "325b274b-daf0-4eb9-a407-e6f09c573c35",
   "metadata": {},
   "source": [
    "## Author\n",
    "#### Sumayya Jad"
   ]
  },
  {
   "cell_type": "code",
   "execution_count": null,
   "id": "2789ba55-c76c-43cc-82c2-c3e5a74a8eee",
   "metadata": {},
   "outputs": [],
   "source": []
  }
 ],
 "metadata": {
  "kernelspec": {
   "display_name": "Python [conda env:base] *",
   "language": "python",
   "name": "conda-base-py"
  },
  "language_info": {
   "codemirror_mode": {
    "name": "ipython",
    "version": 3
   },
   "file_extension": ".py",
   "mimetype": "text/x-python",
   "name": "python",
   "nbconvert_exporter": "python",
   "pygments_lexer": "ipython3",
   "version": "3.12.7"
  }
 },
 "nbformat": 4,
 "nbformat_minor": 5
}
